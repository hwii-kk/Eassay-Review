{
  "nbformat": 4,
  "nbformat_minor": 0,
  "metadata": {
    "colab": {
      "name": "ImageNet Classification CNN.ipynb",
      "provenance": [],
      "collapsed_sections": []
    },
    "kernelspec": {
      "name": "python3",
      "display_name": "Python 3"
    },
    "language_info": {
      "name": "python"
    }
  },
  "cells": [
    {
      "cell_type": "code",
      "execution_count": null,
      "metadata": {
        "id": "zYl-quCxLRu1"
      },
      "outputs": [],
      "source": [
        "class LRN(nn.Module):\n",
        "    def __init__(self, local_size=1, alpha=1.0, beta=0.75, ACROSS_CHANNELS=True):\n",
        "        super(LRN, self).__init__()\n",
        "        self.ACROSS_CHANNELS = ACROSS_CHANNELS\n",
        "        if ACROSS_CHANNELS:\n",
        "            self.average=nn.AvgPool3d(kernel_size=(local_size, 1, 1),\n",
        "                    stride=1,\n",
        "                    padding=(int((local_size-1.0)/2), 0, 0))\n",
        "        else:\n",
        "            self.average=nn.AvgPool2d(kernel_size=local_size,\n",
        "                    stride=1,\n",
        "                    padding=int((local_size-1.0)/2))\n",
        "        self.alpha = alpha\n",
        "        self.beta = beta\n",
        "\n",
        "    def forward(self, x):\n",
        "        if self.ACROSS_CHANNELS:\n",
        "            div = x.pow(2).unsqueeze(1)\n",
        "            div = self.average(div).squeeze(1)\n",
        "            div = div.mul(self.alpha).add(1.0).pow(self.beta)\n",
        "        else:\n",
        "            div = x.pow(2)\n",
        "            div = self.average(div)\n",
        "            div = div.mul(self.alpha).add(1.0).pow(self.beta)\n",
        "        x = x.div(div)\n",
        "        return x\n",
        "class AlexNet(nn.Module):\n",
        "\n",
        "    def __init__(self, num_classes=1000):\n",
        "        super(AlexNet, self).__init__()\n",
        "        self.features = nn.Sequential(\n",
        "            nn.Conv2d(3, 96, kernel_size=11, stride=4, padding=0),\n",
        "            nn.ReLU(inplace=True),\n",
        "            LRN(local_size=5, alpha=0.0001, beta=0.75),\n",
        "            nn.MaxPool2d(kernel_size=3, stride=2),\n",
        "            nn.Conv2d(96, 256, kernel_size=5, padding=2, groups=2),\n",
        "            nn.ReLU(inplace=True),\n",
        "            LRN(local_size=5, alpha=0.0001, beta=0.75),\n",
        "            nn.MaxPool2d(kernel_size=3, stride=2),\n",
        "            nn.Conv2d(256, 384, kernel_size=3, padding=1),\n",
        "            nn.ReLU(inplace=True),\n",
        "            nn.Conv2d(384, 384, kernel_size=3, padding=1, groups=2),\n",
        "            nn.ReLU(inplace=True),\n",
        "            nn.Conv2d(384, 256, kernel_size=3, padding=1, groups=2),\n",
        "            nn.ReLU(inplace=True),\n",
        "            nn.MaxPool2d(kernel_size=3, stride=2),\n",
        "        )\n",
        "        self.classifier = nn.Sequential(\n",
        "            nn.Linear(256 * 6 * 6, 4096),\n",
        "            nn.ReLU(inplace=True),\n",
        "            nn.Dropout(),\n",
        "            nn.Linear(4096, 4096),\n",
        "            nn.ReLU(inplace=True),\n",
        "            nn.Dropout(),\n",
        "            nn.Linear(4096, num_classes),\n",
        "        )\n",
        "\n",
        "    def forward(self, x):\n",
        "        x = self.features(x)\n",
        "        x = x.view(x.size(0), 256 * 6 * 6)\n",
        "        x = self.classifier(x)\n",
        "        return x"
      ]
    }
  ]
}